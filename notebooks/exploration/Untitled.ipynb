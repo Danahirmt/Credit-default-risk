{
 "cells": [
  {
   "cell_type": "code",
   "execution_count": 1,
   "id": "satellite-latter",
   "metadata": {},
   "outputs": [],
   "source": [
    "import pandas as pd\n",
    "import os\n",
    "import sys\n",
    "import seaborn as sns\n",
    "import numpy as np\n",
    "import matplotlib.pyplot as plt\n",
    "\n",
    "from pathlib import Path\n",
    "sys.path.insert(0, str(Path(os.getcwd()).parents[1]))\n",
    "\n",
    "from src.variables import target, id_var, categoric, numeric\n",
    "from src.feature_engineering import app_train, app_test"
   ]
  },
  {
   "cell_type": "code",
   "execution_count": 2,
   "id": "documented-aviation",
   "metadata": {},
   "outputs": [],
   "source": [
    "app_train, app_test = process_categoric(app_train_clean,app_test_clean, categoric)"
   ]
  },
  {
   "cell_type": "code",
   "execution_count": null,
   "id": "american-central",
   "metadata": {},
   "outputs": [],
   "source": [
    "correlations = app_train[target+numeric].corr()['target'].sort_values()"
   ]
  },
  {
   "cell_type": "code",
   "execution_count": 5,
   "id": "super-soldier",
   "metadata": {},
   "outputs": [
    {
     "data": {
      "text/plain": [
       "amt_annuity                       12\n",
       "amt_goods_price                  278\n",
       "own_car_age                   202929\n",
       "cnt_fam_members                    2\n",
       "ext_source_1                  173378\n",
       "                               ...  \n",
       "amt_req_credit_bureau_day      41519\n",
       "amt_req_credit_bureau_week     41519\n",
       "amt_req_credit_bureau_mon      41519\n",
       "amt_req_credit_bureau_qrt      41519\n",
       "amt_req_credit_bureau_year     41519\n",
       "Length: 61, dtype: int64"
      ]
     },
     "execution_count": 5,
     "metadata": {},
     "output_type": "execute_result"
    }
   ],
   "source": [
    "app_train.isnull().sum()[app_train.isnull().sum()>0]"
   ]
  },
  {
   "cell_type": "code",
   "execution_count": null,
   "id": "recorded-torture",
   "metadata": {},
   "outputs": [],
   "source": []
  },
  {
   "cell_type": "code",
   "execution_count": null,
   "id": "official-moisture",
   "metadata": {},
   "outputs": [],
   "source": []
  },
  {
   "cell_type": "code",
   "execution_count": null,
   "id": "relative-ballot",
   "metadata": {},
   "outputs": [],
   "source": []
  },
  {
   "cell_type": "code",
   "execution_count": null,
   "id": "enclosed-august",
   "metadata": {},
   "outputs": [],
   "source": []
  },
  {
   "cell_type": "code",
   "execution_count": null,
   "id": "valid-geology",
   "metadata": {},
   "outputs": [],
   "source": []
  },
  {
   "cell_type": "code",
   "execution_count": null,
   "id": "exempt-zambia",
   "metadata": {},
   "outputs": [],
   "source": []
  },
  {
   "cell_type": "code",
   "execution_count": null,
   "id": "behind-going",
   "metadata": {},
   "outputs": [],
   "source": []
  },
  {
   "cell_type": "code",
   "execution_count": null,
   "id": "czech-point",
   "metadata": {},
   "outputs": [],
   "source": []
  },
  {
   "cell_type": "code",
   "execution_count": null,
   "id": "ethical-appeal",
   "metadata": {},
   "outputs": [],
   "source": []
  },
  {
   "cell_type": "code",
   "execution_count": null,
   "id": "recovered-victoria",
   "metadata": {},
   "outputs": [],
   "source": []
  },
  {
   "cell_type": "code",
   "execution_count": null,
   "id": "collected-array",
   "metadata": {},
   "outputs": [],
   "source": []
  }
 ],
 "metadata": {
  "kernelspec": {
   "display_name": "Python 3",
   "language": "python",
   "name": "python3"
  },
  "language_info": {
   "codemirror_mode": {
    "name": "ipython",
    "version": 3
   },
   "file_extension": ".py",
   "mimetype": "text/x-python",
   "name": "python",
   "nbconvert_exporter": "python",
   "pygments_lexer": "ipython3",
   "version": "3.9.2"
  }
 },
 "nbformat": 4,
 "nbformat_minor": 5
}
